{
 "cells": [
  {
   "cell_type": "code",
   "execution_count": null,
   "metadata": {},
   "outputs": [],
   "source": [
    "import os\n",
    "import pandas as pd\n",
    "import numpy as np\n",
    "from decouple import config"
   ]
  },
  {
   "cell_type": "code",
   "execution_count": null,
   "metadata": {},
   "outputs": [],
   "source": [
    "%run parser_web.py"
   ]
  },
  {
   "cell_type": "code",
   "execution_count": null,
   "metadata": {},
   "outputs": [],
   "source": [
    "if os.path.exists(\"./abstracts_content.pkl\"):\n",
    "    # To read in data if already saved\n",
    "    df = pd.read_pickle(\"abstracts_content.pkl\")\n",
    "else:\n",
    "    %run parser_web.py"
   ]
  },
  {
   "cell_type": "code",
   "execution_count": null,
   "metadata": {},
   "outputs": [],
   "source": [
    "# This is for downloading figures and references. Not necessary at this stage:\n",
    "'''\n",
    "apiKey = config('AI_API_KEY')\n",
    "\n",
    "df['cited'] = None\n",
    "df['figs'] = None\n",
    "\n",
    "for index, row in df.iterrows():\n",
    "    if row['abstractType'] == 'Abstract Submission':\n",
    "        abstractId = row['submissionNumber']   \n",
    "        try:            \n",
    "            if not row['cited']: \n",
    "                response = requests.get(\"https://ww4.aievolution.com/hbm2101/?do=cnt.getservice&service=getAbstract&abstractID=%s&includeAbstractFormData=1&apiKey=%s\" % (index, apiKey))\n",
    "                res = response.text\n",
    "                soup = Soup(res, 'xml')\n",
    "                res_text = soup.prettify()\n",
    "                o = xmltodict.parse(res_text)  \n",
    "                for i in o['rst']['abstract']['forms']['form']['responses']['questions']['question']:\n",
    "                    if i['@id'] == '2070':\n",
    "                        df['cited'].iloc[int(index)] = i['answers']['#text']\n",
    "                df.to_pickle(\"abstracts_content.pkl\")\n",
    "        except:\n",
    "            a = 0\n",
    "        \n",
    "        figNum = int(row['figures']['@count'])\n",
    "        try:\n",
    "            if figNum > 0:\n",
    "                if not row['figs']:                  \n",
    "                    df['figs'].iloc[int(index)] = figNum\n",
    "                    figDir = \"figures/%i\" % int(abstractId)\n",
    "                    if not os.path.isdir(figDir):\n",
    "                        os.mkdir(figDir)\n",
    "                    for f in range(figNum):\n",
    "                        URL = row['figures']['figure'][f]['imageFilename']\n",
    "                        response = requests.get(URL)\n",
    "                        file = open(\"figures/%i/Figure%i.png\" % (int(abstractId), f + 1), \"wb\")\n",
    "                        file.write(response.content)\n",
    "                        file.close()\n",
    "            # print(abstractId)\n",
    "            df.to_pickle(\"abstracts_content.pkl\")\n",
    "        except:\n",
    "            a = 1\n",
    "'''\n"
   ]
  },
  {
   "cell_type": "code",
   "execution_count": null,
   "metadata": {},
   "outputs": [],
   "source": [
    "# Filter by aceepted flag and add pimary category\n",
    "df_accepted = df[(df[\"abstractType\"] == \"Abstract Submission\") & (df[\"acceptedFlag\"] == \"Yes\") & (df[\"completedFlag\"] == \"Yes\")] # & df[\"cited\"] & df[\"figs\"]]\n",
    "df_accepted['primary_category'] = None\n",
    "for idx, row in df_accepted.iterrows():\n",
    "    pc = row[\"categories\"]['category'][-1]['name']\n",
    "    df_accepted.loc[idx, 'primary_category'] = pc"
   ]
  },
  {
   "cell_type": "code",
   "execution_count": null,
   "metadata": {},
   "outputs": [],
   "source": [
    "# keep needed columns\n",
    "num = len(df_accepted)\n",
    "# num = 50 # number of abstracts to run for test\n",
    "print(num)\n",
    "cols = ['submissionNumber', 'title', 'authors','institution', 'previewurl'] # \"purpose\",\"materialsMethods\", \"results\",\"conclusion\",\"cited\",\"figs\"\n",
    "if num == len(df_accepted):\n",
    "    df_filtered = df_accepted.loc[:, cols]\n",
    "else:\n",
    "    df_filtered = df_accepted.loc[df_accepted.index[:num], cols]\n",
    "    df_accepted = df_accepted.loc[df_accepted.index[:num], :]\n",
    "df_filtered.to_csv(\"2021_abstracts.csv\", header=cols, index=False,sep=\"€\")\n",
    "\n",
    "!sed -i -e 's/<u>/\\\\underline\\{/g' 2021_abstracts.csv\n",
    "!sed -i -e 's/<\\/u>/\\}/g' 2021_abstracts.csv\n",
    "!sed -i -e 's/<sup>/\\\\textsuperscript\\{/g' 2021_abstracts.csv\n",
    "!sed -i -e 's/<\\/sup>/\\}/g' 2021_abstracts.csv\n",
    "!sed -i -e 's/\\ \\&\\ /\\ \\\\\\&\\ /g' 2021_abstracts.csv\n",
    "!sed -i -e 's/\\&E/\\\\\\&E/g' 2021_abstracts.csv\n",
    "!sed -i -e 's/A\\&/A\\\\\\&/g' 2021_abstracts.csv\n",
    "!sed -i -e 's/\\_/\\\\\\_/g' 2021_abstracts.csv\n",
    "!sed -i -e 's/\\\\n\\\\n/\\\\linebreak/g' 2021_abstracts.csv\n",
    "\n",
    "!sed -i -e 's/\\|/\\\\\\|/g' 2021_abstracts.csv #CHECK ################\n",
    "!sed -i -e 's/\\n/\\ /g' 2021_abstracts.csv #CHECK ################\n",
    "!sed -i -e 's/.\\€\\\\underline\\{/\\€\\\\underline\\{/g' 2021_authors_index.csv\n",
    "# TO ADD:\n",
    "# REPLACE: , -- SELECT --, \n",
    "!rm -f 2021_abstracts.csv-e"
   ]
  },
  {
   "cell_type": "code",
   "execution_count": null,
   "metadata": {
    "tags": []
   },
   "outputs": [],
   "source": [
    "# create authro index reference \n",
    "authors = {}\n",
    "author_no_resp = set()\n",
    "check_these = []\n",
    "for i, row in df_accepted.iterrows():\n",
    "    for speaker in row['speakers']['speaker']:\n",
    "        speaker_id = int(speaker['@id'])\n",
    "        if speaker_id not in authors:\n",
    "            authors[speaker_id] = {'firstname': speaker['firstname'], \n",
    "                                    'middlename': speaker['middlename'], \n",
    "                                    'lastname': speaker['lastname'], \n",
    "                                    'submissionNumber': set()}  # use set to prevent duplication\n",
    "        if type(row['submissionNumber']) is list:\n",
    "            for s in row['submissionNumber']:\n",
    "                authors[speaker_id]['submissionNumber'].add(int(s))\n",
    "        else:\n",
    "            authors[speaker_id]['submissionNumber'].add(int(row['submissionNumber']))"
   ]
  },
  {
   "cell_type": "code",
   "execution_count": null,
   "metadata": {},
   "outputs": [],
   "source": [
    "# create authors index \n",
    "def capitalise_name(x):    \n",
    "    x = \" \".join(i.capitalize() for i in x.split(\" \"))\n",
    "    if len(x.split(\"-\")) > 1:\n",
    "        x = \"-\".join(i.capitalize() for i in x.split(\"-\"))\n",
    "    return x\n",
    "\n",
    "with open(\"2021_authors_index.csv\",\"w\", encoding='utf8') as f:\n",
    "    for author in authors.values(): \n",
    "        if author['middlename'] != None:  # no mi\n",
    "            f.write(\"%s€%s %s€%s\\n\" % (capitalise_name(author['lastname']),\n",
    "                                       capitalise_name(author['firstname']),\n",
    "                                       capitalise_name(author['middlename']),\n",
    "                                       str(list(author['submissionNumber']))))\n",
    "        else:\n",
    "            f.write(\"%s€%s€%s\\n\" % (capitalise_name(author['lastname']),\n",
    "                                    capitalise_name(author['firstname']),\n",
    "                                    str(list(author['submissionNumber']))))\n",
    "\n",
    "!sed -i -e 's/\\[//g'  2021_authors_index.csv\n",
    "!sed -i -e 's/\\]//g'  2021_authors_index.csv\n",
    "!sed -i -e 's/Dr //g'  2021_authors_index.csv\n",
    "!sed -i -e 's/\\.//g'  2021_authors_index.csv\n",
    "!sed -i -e 's/\\.\\ //g'  2021_authors_index.csv\n",
    "!sed -i -e 's/\\*//g'  2021_authors_index.csv\n",
    "!sed -i -e 's/\\,\\ /\\,/g' 2021_authors_index.csv # replace space after commas, BUT ONLY FOR NUMBERS !!!\n",
    "\n",
    "!sort -k1 -t\\| -o 2021_authors_index.csv 2021_authors_index.csv \n",
    "# !sed -i -e 's/\\\\|/\\\\€/g'  2021_authors_index.csv\n",
    "!rm -f 2021_authors_index.csv-e"
   ]
  },
  {
   "cell_type": "code",
   "execution_count": null,
   "metadata": {},
   "outputs": [],
   "source": [
    "# create category index\n",
    "\n",
    "df = pd.read_csv(\"2021_abstracts_with_keywords_categories.csv\")\n",
    "supra_category_list = np.unique(np.concatenate((df['Primary Category Parent Category'],df['Secondary Category Parent Category'])))\n",
    "category_list = np.unique(np.concatenate((df['Primary Category'],df['Secondary Category'])))\n",
    "\n",
    "categories = {}\n",
    "categories_no_resp = set()\n",
    "check_these = []\n",
    "for category in category_list:\n",
    "    categories[category.strip()] = {'category': category.strip(),\n",
    "                            'Poster No': set()}  # use set to prevent duplication\n",
    "\n",
    "for i, row in df.iterrows():\n",
    "    for category in [row['Primary Category'], row['Secondary Category']]:\n",
    "        if type(row['Poster No']) is list:\n",
    "            for s in row['Poster No']:\n",
    "                categories[category.strip()]['Poster No'].add(int(s))\n",
    "        else:\n",
    "            categories[category.strip()]['Poster No'].add(int(row['Poster No']))\n",
    "\n",
    "cat_sets = {}\n",
    "for s_cat in supra_category_list:\n",
    "    cat_sets[s_cat] = {'categories': set()}\n",
    "\n",
    "for i, row in df.iterrows():\n",
    "    cat_sets[row['Primary Category Parent Category']]['categories'].add(row['Primary Category'].strip())\n",
    "    cat_sets[row['Secondary Category Parent Category']]['categories'].add(row['Secondary Category'].strip())\n",
    "\n",
    "with open(\"2021_categories_index_test.csv\",\"w\", encoding='utf8') as f:\n",
    "    for supra_category in sorted(cat_sets):\n",
    "        f.write(\"%s€\\n\" % (supra_category.strip()))\n",
    "        for subcat in sorted(cat_sets[supra_category]['categories']):\n",
    "            # also  REORDER SO THAT 'OTHER' APPEARS AT END OF SECTION\n",
    "            f.write(\"%s€%s\\n\" % (subcat.strip(),\",\".join( str(e) for e in sorted(categories[subcat.strip()]['Poster No']))))            \n",
    "\n",
    "# CURRENT MANUAL FIXES:\n",
    "# fix neuro disorders chars\n",
    "# REORDER SO THAT 'OTHER' APPEARS AT END OF SECTION"
   ]
  },
  {
   "cell_type": "code",
   "execution_count": null,
   "metadata": {
    "tags": []
   },
   "outputs": [],
   "source": [
    "# tex file needs to be run twice to incorporate cross-referenced links\n",
    "!lualatex -interaction=nonstopmode ohbm2021_abstract_book.tex\n",
    "!lualatex -interaction=nonstopmode ohbm2021_abstract_book.tex"
   ]
  },
  {
   "cell_type": "code",
   "execution_count": null,
   "metadata": {},
   "outputs": [],
   "source": []
  }
 ],
 "metadata": {
  "kernelspec": {
   "display_name": "Python 3",
   "language": "python",
   "name": "python3"
  },
  "language_info": {
   "codemirror_mode": {
    "name": "ipython",
    "version": 3
   },
   "file_extension": ".py",
   "mimetype": "text/x-python",
   "name": "python",
   "nbconvert_exporter": "python",
   "pygments_lexer": "ipython3",
   "version": "3.6.13"
  }
 },
 "nbformat": 4,
 "nbformat_minor": 4
}
